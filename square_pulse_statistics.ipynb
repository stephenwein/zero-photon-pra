{
 "cells": [
  {
   "cell_type": "markdown",
   "source": [
    "Author: Stephen C. Wein, Quantum Information Research Scientist at Quandela\n",
    "Email:  stephen.wein@quandela.com\n",
    "Date:   September 20th, 2023\n",
    "\n",
    "Dependencies:\n",
    "numpy\n",
    "qutip\n",
    "perceval-quandela\n",
    "itertools\n",
    "tensorflow\n",
    "\n",
    "Description:\n",
    "The first part of the notebook simulates scattering probabilities for a two-level emitter driven by a square pulse in the semi-classical approximation using both the standard recursive integration approach and the numerical ZPG method. It is used to generate results presented in Figure 2 of the paper \"Exponential speedup for simulating photon counting from dynamic quantum sources\" available online:\n",
    " https://arxiv.org/abs/2307.16591.\n",
    "\n",
    "The second part of the notebook extends the ZPG method to multi-source/multi-mode simulations of the same emitter type presented in Figure 3 of the same paper. This is done to validate numerical results against ideal discrete-variable simulations provided by Perceval, and to give an example of the computational time scaling."
   ],
   "metadata": {
    "collapsed": false
   }
  },
  {
   "cell_type": "code",
   "execution_count": 3,
   "outputs": [],
   "source": [
    "import numpy as np\n",
    "import qutip as qt"
   ],
   "metadata": {
    "collapsed": false,
    "ExecuteTime": {
     "end_time": "2023-12-18T21:20:33.061376Z",
     "start_time": "2023-12-18T21:20:31.875991Z"
    }
   }
  },
  {
   "cell_type": "markdown",
   "source": [
    "## Part 1: single mode statistics\n",
    "\n",
    "System setup"
   ],
   "metadata": {
    "collapsed": false
   }
  },
  {
   "cell_type": "code",
   "execution_count": 4,
   "outputs": [],
   "source": [
    "Hd = (qt.destroy(2) + qt.create(2))/2  # driving Hamiltonian (sans Omega(t))\n",
    "istate = qt.fock(2, 0)  # initial state = |g>\n",
    "area = 10 * np.pi\n",
    "width = 2\n",
    "Ht = [Hd, lambda t, args: area/width if 0 < t < width else 0]"
   ],
   "metadata": {
    "collapsed": false,
    "ExecuteTime": {
     "end_time": "2023-12-18T21:20:33.061489Z",
     "start_time": "2023-12-18T21:20:33.059023Z"
    }
   }
  },
  {
   "cell_type": "code",
   "execution_count": 3,
   "outputs": [],
   "source": [
    "# See Mathematica notebook exact_values.nb\n",
    "exact = [0.36766965348784736,\n",
    "         0.09251845596353651,\n",
    "         0.39255037245458413,\n",
    "         0.09567822259508901,\n",
    "         0.04140436181229831,\n",
    "         0.008321043393002221,\n",
    "         0.001591061140004126]"
   ],
   "metadata": {
    "collapsed": false,
    "ExecuteTime": {
     "end_time": "2023-09-20T06:48:32.334771Z",
     "start_time": "2023-09-20T06:48:32.333324Z"
    }
   }
  },
  {
   "cell_type": "code",
   "execution_count": 4,
   "outputs": [],
   "source": [
    "def r_error(p, q):\n",
    "    return abs(p-q)/(p+q)"
   ],
   "metadata": {
    "collapsed": false,
    "ExecuteTime": {
     "end_time": "2023-09-20T06:48:32.336872Z",
     "start_time": "2023-09-20T06:48:32.335649Z"
    }
   }
  },
  {
   "cell_type": "markdown",
   "source": [
    "a) Recursive integration using qutip.scattering"
   ],
   "metadata": {
    "collapsed": false
   }
  },
  {
   "cell_type": "code",
   "execution_count": 5,
   "outputs": [],
   "source": [
    "def pn_scattering(n, tlist):\n",
    "    return qt.scattering_probability([Ht], istate, n_emissions=n, c_ops=[qt.destroy(2)], tlist=tlist)"
   ],
   "metadata": {
    "collapsed": false,
    "ExecuteTime": {
     "end_time": "2023-09-20T06:48:32.339843Z",
     "start_time": "2023-09-20T06:48:32.338702Z"
    }
   }
  },
  {
   "cell_type": "code",
   "execution_count": 6,
   "outputs": [
    {
     "name": "stdout",
     "output_type": "stream",
     "text": [
      "p(0) = 0.36765651424511825   \t error =  1.7868591253346313e-05\n",
      "p(1) = 0.08962203553205443   \t error =  0.015902122629070627\n",
      "p(2) = 0.39661183319409266   \t error =  0.005146547453029737\n",
      "p(3) = 0.09379035803326696   \t error =  0.009963998017830251\n"
     ]
    }
   ],
   "source": [
    "# 80 points chosen to get p(3) error near 0.01, tlist could be optimised a bit more but won't change scaling\n",
    "tlist = np.linspace(0, 12, 80)\n",
    "pnset_scattering = [pn_scattering(n, tlist) for n in range(0, 4)]\n",
    "\n",
    "for i in range(0, 4):\n",
    "    print(f\"p({i}) =\", pnset_scattering[i], \"  \\t\", \"error = \", r_error(exact[i], pnset_scattering[i]))"
   ],
   "metadata": {
    "collapsed": false,
    "ExecuteTime": {
     "end_time": "2023-09-20T06:52:56.393010Z",
     "start_time": "2023-09-20T06:48:32.341137Z"
    }
   }
  },
  {
   "cell_type": "markdown",
   "source": [
    "b) ZPG + FFT method"
   ],
   "metadata": {
    "collapsed": false
   }
  },
  {
   "cell_type": "code",
   "execution_count": 7,
   "outputs": [],
   "source": [
    "def p0_zpg(eta, tlist):\n",
    "    options = qt.Options(atol=10**-16, rtol=10**-16, nsteps=10000)\n",
    "    J = -eta * qt.sprepost(qt.destroy(2), qt.create(2))\n",
    "    return np.trace(qt.mesolve([Ht], istate, tlist=tlist, c_ops=[qt.destroy(2), J], options=options).states[-1].full())\n",
    "\n",
    "def pn_zpg(N, tlist):\n",
    "    v_configs = [1 - np.exp(-1.j * 2 * np.pi * n / (N + 1)) for n in range(0, N + 1)]\n",
    "    zpg_points = [p0_zpg(eta, tlist) for eta in v_configs]\n",
    "    return list(abs(np.fft.ifft(zpg_points)))"
   ],
   "metadata": {
    "collapsed": false,
    "ExecuteTime": {
     "end_time": "2023-09-20T06:52:56.396476Z",
     "start_time": "2023-09-20T06:52:56.394983Z"
    }
   }
  },
  {
   "cell_type": "code",
   "execution_count": 8,
   "outputs": [
    {
     "name": "stdout",
     "output_type": "stream",
     "text": [
      "p(0) =  0.3676696534878733  \t error =  3.52540757430955e-14\n",
      "p(1) =  0.0925184559637296  \t error =  1.0434764596915593e-12\n",
      "p(2) =  0.39255037245443986  \t error =  1.8376429137990085e-13\n",
      "p(3) =  0.09567822259506605  \t error =  1.2002594842890912e-13\n",
      "p(4) =  0.04140436181227855  \t error =  2.3864599010028235e-13\n",
      "p(5) =  0.008321043393000896  \t error =  7.963717247051931e-14\n",
      "p(6) =  0.0015910611400009526  \t error =  9.972777535312083e-13\n"
     ]
    }
   ],
   "source": [
    "pnset_zpg = pn_zpg(N=14, tlist=[0, 1, 30]) # give a point in the middle of the pulse to help mesolve\n",
    "\n",
    "for i in range(0, 7):\n",
    "    print(f\"p({i}) = \", pnset_zpg[i], \" \\t\", \"error = \", r_error(exact[i], pnset_zpg[i]))"
   ],
   "metadata": {
    "collapsed": false,
    "ExecuteTime": {
     "end_time": "2023-09-20T06:52:56.497571Z",
     "start_time": "2023-09-20T06:52:56.397439Z"
    }
   }
  },
  {
   "cell_type": "markdown",
   "source": [
    "Note that, mesolve is not the fastest way to solve this particular system. Because it is time-independent and the ZPG is sparse, two applications of a Krylov subspace expmv algorithm could solve it in about 1ms per ZPG sampling point. But, since qt.scattering uses mesolve, I use it as well to solve the ZPG for an apples-to-apples comparison."
   ],
   "metadata": {
    "collapsed": false
   }
  },
  {
   "cell_type": "markdown",
   "source": [
    "## Part 2: Multimode statistics using the ZPG method"
   ],
   "metadata": {
    "collapsed": false
   }
  },
  {
   "cell_type": "code",
   "execution_count": 9,
   "outputs": [],
   "source": [
    "import perceval as pcvl\n",
    "import string\n",
    "import time\n",
    "from itertools import product\n",
    "from tensorflow import constant, einsum, complex64 # could probably be replaced with numpy"
   ],
   "metadata": {
    "collapsed": false,
    "ExecuteTime": {
     "end_time": "2023-09-20T06:52:59.715210Z",
     "start_time": "2023-09-20T06:52:56.498379Z"
    }
   }
  },
  {
   "cell_type": "code",
   "execution_count": 10,
   "outputs": [],
   "source": [
    "# Hamiltonian for 'size' identical two-level emitters\n",
    "def square_drive(size):\n",
    "    Hd = (qt.destroy(2) + qt.create(2))/2\n",
    "    Htotal = sum(qt.tensor([qt.identity(2)]*n + [Hd] + [qt.identity(2)]*(size - n - 1)) for n in range(0, size))\n",
    "    return [Htotal, lambda t, args: args['area']/args['width'] if 0 < t < args['width'] else 0]\n",
    "\n",
    "# list of lowering operators\n",
    "def sigma_vector(size):\n",
    "    return [qt.tensor([qt.identity(2)]*n + [qt.destroy(2)] + [qt.identity(2)]*(size - n - 1)) for n in range(0, size)]\n",
    "\n",
    "# Constructs vector of detector jump operators\n",
    "def J_vector(U, size):\n",
    "    sigmas = sigma_vector(size)\n",
    "    return [sum(U[k, i] * U.dag()[j, k] * qt.sprepost(sigmas[i], sigmas[j].dag())\n",
    "                for i in range(0, size) for j in range(0, size)) for k in range(0, size)]\n",
    "\n",
    "# Simulates the zero-photon probability from the ZPG\n",
    "def p0_zpg(eta_vec, H, istate,  c_ops, J_vec, tlist, args: dict = None):\n",
    "    options = qt.Options(atol=10**-8, rtol=10**-8, nsteps=10000)\n",
    "    J = -sum(eta_vec[j] * J_vec[j] for j in range(0, len(eta_vec)))\n",
    "    return np.trace(qt.mesolve(H, istate, tlist=tlist, c_ops=c_ops + [J], options=options, args=args).states[-1].full())\n",
    "\n",
    "# Threshold detection inverse Z-transform implemented by tensor contraction (small overhead vs FFT)\n",
    "def td_inverse(tensor):\n",
    "    rank = len(tensor.shape)\n",
    "    mat = constant([[1., 0.], [-1., 1.]], dtype=complex64)\n",
    "    alphabet = list(string.ascii_lowercase)\n",
    "    mat_indicies = alphabet[0:rank]\n",
    "    tensor_indices = alphabet[rank:rank + rank]\n",
    "    axes_indices = [tensor_indices[i] for i in range(0, rank)]\n",
    "    mat_indicies = [''.join([mat_indicies[i], axes_indices[i]]) for i in range(0, rank)]\n",
    "    mat_indicies = ','.join(mat_indicies)\n",
    "    tensor_indices = ''.join(tensor_indices)\n",
    "    return np.array(einsum(','.join([mat_indicies, tensor_indices]), *([mat] * rank + [tensor])))\n",
    "\n",
    "# Computes the probability distribution for unitary U between times tlist[0] and tlist[-1] using\n",
    "# method = 'PNR' or 'Threshold'. For PNR, each detector contributes 'truncation' number of ZPG points for the FFT.\n",
    "def pn_zpg(U, tlist, method='PNR', truncation=None, args: dict = None):\n",
    "    args = {'area': np.pi, 'width': 0.0001} if args is None else args\n",
    "    size = U.shape[0]\n",
    "    truncation = size if truncation is None else truncation\n",
    "\n",
    "    H = square_drive(size)\n",
    "    J_vec = J_vector(U, size)\n",
    "    c_ops = sigma_vector(size)\n",
    "\n",
    "    istate = qt.tensor([qt.fock(2, 0)]*size) # ground state for all emitters\n",
    "\n",
    "    if method == 'Threshold':\n",
    "        v_configs = list(product(*[[1, 0]]*size))\n",
    "        zpg_points = [p0_zpg(list(eta_vec), H, istate, c_ops, J_vec, tlist, args) for eta_vec in v_configs]\n",
    "        zpg_points = np.reshape(zpg_points, [2]*size)\n",
    "        return abs(td_inverse(zpg_points))\n",
    "    elif method == 'PNR':\n",
    "        v_configs = [1 - np.exp(-1.j * 2 * np.pi * n / (truncation + 1)) for n in range(0, truncation + 1)]\n",
    "        v_configs = list(product(*[v_configs]*size))\n",
    "        zpg_points = [p0_zpg(list(eta_vec), H, istate, c_ops, J_vec, tlist, args) for eta_vec in v_configs]\n",
    "        zpg_points = np.reshape(zpg_points, [truncation + 1]*size)\n",
    "        return abs(np.fft.ifftn(zpg_points))\n",
    "    else:\n",
    "        assert False, \"Method doesn't exist.\"\n",
    "\n",
    "# Computes the TVD relative to the exact distribution simulated using Perceval with ideal single-photon inputs\n",
    "def tvd(U, tlist, method = 'PNR', truncation=None, args: dict = None):\n",
    "    assert any(method == i for i in ['PNR', 'Threshold']), \"Method doesn't exist\"\n",
    "    size = U.shape[0]\n",
    "\n",
    "    t0 = time.time()\n",
    "    zpg_dist = pn_zpg(U, tlist, method=method, truncation=truncation, args=args)\n",
    "    tf = time.time() - t0\n",
    "\n",
    "    p = pcvl.Processor('SLOS')\n",
    "    p.add(0, pcvl.Unitary(pcvl.Matrix(U.full())))\n",
    "    p.with_input(pcvl.BasicState([1]*size))\n",
    "    pcvl_dist = p.probs()['results']\n",
    "\n",
    "    # Computes the threshold detection distribution from the exact PNR distribution\n",
    "    pcvl_td = {}\n",
    "    for k, v in pcvl_dist.items():\n",
    "        try:\n",
    "            pcvl_td[pcvl.BasicState([np.sign(i) for i in k])] += v\n",
    "        except:\n",
    "            pcvl_td[pcvl.BasicState([np.sign(i) for i in k])] = v\n",
    "\n",
    "    tvd = 0\n",
    "    if method == 'PNR':\n",
    "        max_pht = max(size if truncation is None else truncation, max(k.n for k in pcvl_dist.keys()))\n",
    "        for i in product(*[list(range(0, max_pht))]*size):\n",
    "            tvd += abs(zpg_dist[i] - pcvl_dist.get(pcvl.BasicState(i), 0))/2\n",
    "    else:\n",
    "        for i in product(*[[0, 1]]*size):\n",
    "            tvd += abs(zpg_dist[i] - pcvl_td.get(pcvl.BasicState(i), 0))/2\n",
    "\n",
    "    return {'time': tf, 'tvd': tvd}"
   ],
   "metadata": {
    "collapsed": false,
    "ExecuteTime": {
     "end_time": "2023-09-20T06:52:59.728717Z",
     "start_time": "2023-09-20T06:52:59.726810Z"
    }
   }
  },
  {
   "cell_type": "code",
   "execution_count": 11,
   "outputs": [
    {
     "name": "stdout",
     "output_type": "stream",
     "text": [
      "{'time': 0.07523894309997559, 'tvd': 0.00011184133669126742}\n",
      "{'time': 0.720811128616333, 'tvd': 0.0003708077665223209}\n"
     ]
    }
   ],
   "source": [
    "size = 3\n",
    "par = {'area': np.pi, 'width': 0.001}  # TVD -> 0 as width -> 0, indicating accurate simulation\n",
    "U = qt.rand_unitary_haar(size)\n",
    "print(tvd(U, tlist=[0, 30], method='Threshold', args=par))\n",
    "print(tvd(U, tlist=[0, 30], method='PNR', truncation=size+1, args=par))"
   ],
   "metadata": {
    "collapsed": false,
    "ExecuteTime": {
     "end_time": "2023-09-20T06:53:00.537053Z",
     "start_time": "2023-09-20T06:52:59.729773Z"
    }
   }
  }
 ],
 "metadata": {
  "kernelspec": {
   "display_name": "Python 3",
   "language": "python",
   "name": "python3"
  },
  "language_info": {
   "codemirror_mode": {
    "name": "ipython",
    "version": 2
   },
   "file_extension": ".py",
   "mimetype": "text/x-python",
   "name": "python",
   "nbconvert_exporter": "python",
   "pygments_lexer": "ipython2",
   "version": "2.7.6"
  }
 },
 "nbformat": 4,
 "nbformat_minor": 0
}
